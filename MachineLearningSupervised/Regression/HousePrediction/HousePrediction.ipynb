{
 "cells": [
  {
   "cell_type": "code",
   "execution_count": 64,
   "metadata": {},
   "outputs": [],
   "source": [
    "import pandas as pd\n",
    "import numpy as np\n",
    "import matplotlib.pyplot as plt\n",
    "from sklearn.feature_selection import VarianceThreshold\n",
    "\n",
    "#Recuperer la Data\n",
    "df=pd.read_csv(\"C:\\\\Users\\\\USER\\\\Documents\\\\GOMYCODE\\\\MachineLearningSupervised\\\\Regression\\\\HousePrediction\\\\kc_house_data.csv\", sep=',')"
   ]
  },
  {
   "cell_type": "code",
   "execution_count": 65,
   "metadata": {},
   "outputs": [
    {
     "data": {
      "text/html": [
       "<div>\n",
       "<style scoped>\n",
       "    .dataframe tbody tr th:only-of-type {\n",
       "        vertical-align: middle;\n",
       "    }\n",
       "\n",
       "    .dataframe tbody tr th {\n",
       "        vertical-align: top;\n",
       "    }\n",
       "\n",
       "    .dataframe thead th {\n",
       "        text-align: right;\n",
       "    }\n",
       "</style>\n",
       "<table border=\"1\" class=\"dataframe\">\n",
       "  <thead>\n",
       "    <tr style=\"text-align: right;\">\n",
       "      <th></th>\n",
       "      <th>id</th>\n",
       "      <th>date</th>\n",
       "      <th>price</th>\n",
       "      <th>bedrooms</th>\n",
       "      <th>bathrooms</th>\n",
       "      <th>sqft_living</th>\n",
       "      <th>sqft_lot</th>\n",
       "      <th>floors</th>\n",
       "      <th>waterfront</th>\n",
       "      <th>view</th>\n",
       "      <th>...</th>\n",
       "      <th>grade</th>\n",
       "      <th>sqft_above</th>\n",
       "      <th>sqft_basement</th>\n",
       "      <th>yr_built</th>\n",
       "      <th>yr_renovated</th>\n",
       "      <th>zipcode</th>\n",
       "      <th>lat</th>\n",
       "      <th>long</th>\n",
       "      <th>sqft_living15</th>\n",
       "      <th>sqft_lot15</th>\n",
       "    </tr>\n",
       "  </thead>\n",
       "  <tbody>\n",
       "    <tr>\n",
       "      <th>0</th>\n",
       "      <td>7129300520</td>\n",
       "      <td>20141013T000000</td>\n",
       "      <td>221900.0</td>\n",
       "      <td>3</td>\n",
       "      <td>1.00</td>\n",
       "      <td>1180</td>\n",
       "      <td>5650</td>\n",
       "      <td>1.0</td>\n",
       "      <td>0</td>\n",
       "      <td>0</td>\n",
       "      <td>...</td>\n",
       "      <td>7</td>\n",
       "      <td>1180</td>\n",
       "      <td>0</td>\n",
       "      <td>1955</td>\n",
       "      <td>0</td>\n",
       "      <td>98178</td>\n",
       "      <td>47.5112</td>\n",
       "      <td>-122.257</td>\n",
       "      <td>1340</td>\n",
       "      <td>5650</td>\n",
       "    </tr>\n",
       "    <tr>\n",
       "      <th>1</th>\n",
       "      <td>6414100192</td>\n",
       "      <td>20141209T000000</td>\n",
       "      <td>538000.0</td>\n",
       "      <td>3</td>\n",
       "      <td>2.25</td>\n",
       "      <td>2570</td>\n",
       "      <td>7242</td>\n",
       "      <td>2.0</td>\n",
       "      <td>0</td>\n",
       "      <td>0</td>\n",
       "      <td>...</td>\n",
       "      <td>7</td>\n",
       "      <td>2170</td>\n",
       "      <td>400</td>\n",
       "      <td>1951</td>\n",
       "      <td>1991</td>\n",
       "      <td>98125</td>\n",
       "      <td>47.7210</td>\n",
       "      <td>-122.319</td>\n",
       "      <td>1690</td>\n",
       "      <td>7639</td>\n",
       "    </tr>\n",
       "    <tr>\n",
       "      <th>2</th>\n",
       "      <td>5631500400</td>\n",
       "      <td>20150225T000000</td>\n",
       "      <td>180000.0</td>\n",
       "      <td>2</td>\n",
       "      <td>1.00</td>\n",
       "      <td>770</td>\n",
       "      <td>10000</td>\n",
       "      <td>1.0</td>\n",
       "      <td>0</td>\n",
       "      <td>0</td>\n",
       "      <td>...</td>\n",
       "      <td>6</td>\n",
       "      <td>770</td>\n",
       "      <td>0</td>\n",
       "      <td>1933</td>\n",
       "      <td>0</td>\n",
       "      <td>98028</td>\n",
       "      <td>47.7379</td>\n",
       "      <td>-122.233</td>\n",
       "      <td>2720</td>\n",
       "      <td>8062</td>\n",
       "    </tr>\n",
       "    <tr>\n",
       "      <th>3</th>\n",
       "      <td>2487200875</td>\n",
       "      <td>20141209T000000</td>\n",
       "      <td>604000.0</td>\n",
       "      <td>4</td>\n",
       "      <td>3.00</td>\n",
       "      <td>1960</td>\n",
       "      <td>5000</td>\n",
       "      <td>1.0</td>\n",
       "      <td>0</td>\n",
       "      <td>0</td>\n",
       "      <td>...</td>\n",
       "      <td>7</td>\n",
       "      <td>1050</td>\n",
       "      <td>910</td>\n",
       "      <td>1965</td>\n",
       "      <td>0</td>\n",
       "      <td>98136</td>\n",
       "      <td>47.5208</td>\n",
       "      <td>-122.393</td>\n",
       "      <td>1360</td>\n",
       "      <td>5000</td>\n",
       "    </tr>\n",
       "    <tr>\n",
       "      <th>4</th>\n",
       "      <td>1954400510</td>\n",
       "      <td>20150218T000000</td>\n",
       "      <td>510000.0</td>\n",
       "      <td>3</td>\n",
       "      <td>2.00</td>\n",
       "      <td>1680</td>\n",
       "      <td>8080</td>\n",
       "      <td>1.0</td>\n",
       "      <td>0</td>\n",
       "      <td>0</td>\n",
       "      <td>...</td>\n",
       "      <td>8</td>\n",
       "      <td>1680</td>\n",
       "      <td>0</td>\n",
       "      <td>1987</td>\n",
       "      <td>0</td>\n",
       "      <td>98074</td>\n",
       "      <td>47.6168</td>\n",
       "      <td>-122.045</td>\n",
       "      <td>1800</td>\n",
       "      <td>7503</td>\n",
       "    </tr>\n",
       "  </tbody>\n",
       "</table>\n",
       "<p>5 rows × 21 columns</p>\n",
       "</div>"
      ],
      "text/plain": [
       "           id             date     price  bedrooms  bathrooms  sqft_living  \\\n",
       "0  7129300520  20141013T000000  221900.0         3       1.00         1180   \n",
       "1  6414100192  20141209T000000  538000.0         3       2.25         2570   \n",
       "2  5631500400  20150225T000000  180000.0         2       1.00          770   \n",
       "3  2487200875  20141209T000000  604000.0         4       3.00         1960   \n",
       "4  1954400510  20150218T000000  510000.0         3       2.00         1680   \n",
       "\n",
       "   sqft_lot  floors  waterfront  view  ...  grade  sqft_above  sqft_basement  \\\n",
       "0      5650     1.0           0     0  ...      7        1180              0   \n",
       "1      7242     2.0           0     0  ...      7        2170            400   \n",
       "2     10000     1.0           0     0  ...      6         770              0   \n",
       "3      5000     1.0           0     0  ...      7        1050            910   \n",
       "4      8080     1.0           0     0  ...      8        1680              0   \n",
       "\n",
       "   yr_built  yr_renovated  zipcode      lat     long  sqft_living15  \\\n",
       "0      1955             0    98178  47.5112 -122.257           1340   \n",
       "1      1951          1991    98125  47.7210 -122.319           1690   \n",
       "2      1933             0    98028  47.7379 -122.233           2720   \n",
       "3      1965             0    98136  47.5208 -122.393           1360   \n",
       "4      1987             0    98074  47.6168 -122.045           1800   \n",
       "\n",
       "   sqft_lot15  \n",
       "0        5650  \n",
       "1        7639  \n",
       "2        8062  \n",
       "3        5000  \n",
       "4        7503  \n",
       "\n",
       "[5 rows x 21 columns]"
      ]
     },
     "execution_count": 65,
     "metadata": {},
     "output_type": "execute_result"
    }
   ],
   "source": [
    "df.head()"
   ]
  },
  {
   "cell_type": "code",
   "execution_count": 66,
   "metadata": {},
   "outputs": [
    {
     "data": {
      "text/plain": [
       "(21613, 21)"
      ]
     },
     "execution_count": 66,
     "metadata": {},
     "output_type": "execute_result"
    }
   ],
   "source": [
    "df.shape"
   ]
  },
  {
   "cell_type": "code",
   "execution_count": 25,
   "metadata": {},
   "outputs": [
    {
     "data": {
      "text/plain": [
       "id               0.0\n",
       "date             0.0\n",
       "price            0.0\n",
       "bedrooms         0.0\n",
       "bathrooms        0.0\n",
       "sqft_living      0.0\n",
       "sqft_lot         0.0\n",
       "floors           0.0\n",
       "waterfront       0.0\n",
       "view             0.0\n",
       "condition        0.0\n",
       "grade            0.0\n",
       "sqft_above       0.0\n",
       "sqft_basement    0.0\n",
       "yr_built         0.0\n",
       "yr_renovated     0.0\n",
       "zipcode          0.0\n",
       "lat              0.0\n",
       "long             0.0\n",
       "sqft_living15    0.0\n",
       "sqft_lot15       0.0\n",
       "dtype: float64"
      ]
     },
     "execution_count": 25,
     "metadata": {},
     "output_type": "execute_result"
    }
   ],
   "source": [
    "\n",
    "df.isna().sum()/df.shape[0]*100"
   ]
  },
  {
   "cell_type": "code",
   "execution_count": 26,
   "metadata": {},
   "outputs": [
    {
     "data": {
      "text/plain": [
       "['date']"
      ]
     },
     "execution_count": 26,
     "metadata": {},
     "output_type": "execute_result"
    }
   ],
   "source": [
    "list(df.select_dtypes(include='int').columns)\n",
    "list(df.select_dtypes(include='float').columns)\n",
    "list(df.select_dtypes(include='object').columns)"
   ]
  },
  {
   "cell_type": "code",
   "execution_count": 67,
   "metadata": {},
   "outputs": [],
   "source": [
    "# Supprimer les colonnes inutiles\n",
    "data = df.drop(['id', 'date'], axis=1)"
   ]
  },
  {
   "cell_type": "code",
   "execution_count": 68,
   "metadata": {},
   "outputs": [
    {
     "data": {
      "text/html": [
       "<div>\n",
       "<style scoped>\n",
       "    .dataframe tbody tr th:only-of-type {\n",
       "        vertical-align: middle;\n",
       "    }\n",
       "\n",
       "    .dataframe tbody tr th {\n",
       "        vertical-align: top;\n",
       "    }\n",
       "\n",
       "    .dataframe thead th {\n",
       "        text-align: right;\n",
       "    }\n",
       "</style>\n",
       "<table border=\"1\" class=\"dataframe\">\n",
       "  <thead>\n",
       "    <tr style=\"text-align: right;\">\n",
       "      <th></th>\n",
       "      <th>price</th>\n",
       "      <th>bedrooms</th>\n",
       "      <th>bathrooms</th>\n",
       "      <th>sqft_living</th>\n",
       "      <th>sqft_lot</th>\n",
       "      <th>floors</th>\n",
       "      <th>waterfront</th>\n",
       "      <th>view</th>\n",
       "      <th>condition</th>\n",
       "      <th>grade</th>\n",
       "      <th>sqft_above</th>\n",
       "      <th>sqft_basement</th>\n",
       "      <th>yr_built</th>\n",
       "      <th>yr_renovated</th>\n",
       "      <th>zipcode</th>\n",
       "      <th>lat</th>\n",
       "      <th>long</th>\n",
       "      <th>sqft_living15</th>\n",
       "      <th>sqft_lot15</th>\n",
       "    </tr>\n",
       "  </thead>\n",
       "  <tbody>\n",
       "    <tr>\n",
       "      <th>0</th>\n",
       "      <td>221900.0</td>\n",
       "      <td>3</td>\n",
       "      <td>1.00</td>\n",
       "      <td>1180</td>\n",
       "      <td>5650</td>\n",
       "      <td>1.0</td>\n",
       "      <td>0</td>\n",
       "      <td>0</td>\n",
       "      <td>3</td>\n",
       "      <td>7</td>\n",
       "      <td>1180</td>\n",
       "      <td>0</td>\n",
       "      <td>1955</td>\n",
       "      <td>0</td>\n",
       "      <td>98178</td>\n",
       "      <td>47.5112</td>\n",
       "      <td>-122.257</td>\n",
       "      <td>1340</td>\n",
       "      <td>5650</td>\n",
       "    </tr>\n",
       "    <tr>\n",
       "      <th>1</th>\n",
       "      <td>538000.0</td>\n",
       "      <td>3</td>\n",
       "      <td>2.25</td>\n",
       "      <td>2570</td>\n",
       "      <td>7242</td>\n",
       "      <td>2.0</td>\n",
       "      <td>0</td>\n",
       "      <td>0</td>\n",
       "      <td>3</td>\n",
       "      <td>7</td>\n",
       "      <td>2170</td>\n",
       "      <td>400</td>\n",
       "      <td>1951</td>\n",
       "      <td>1991</td>\n",
       "      <td>98125</td>\n",
       "      <td>47.7210</td>\n",
       "      <td>-122.319</td>\n",
       "      <td>1690</td>\n",
       "      <td>7639</td>\n",
       "    </tr>\n",
       "    <tr>\n",
       "      <th>2</th>\n",
       "      <td>180000.0</td>\n",
       "      <td>2</td>\n",
       "      <td>1.00</td>\n",
       "      <td>770</td>\n",
       "      <td>10000</td>\n",
       "      <td>1.0</td>\n",
       "      <td>0</td>\n",
       "      <td>0</td>\n",
       "      <td>3</td>\n",
       "      <td>6</td>\n",
       "      <td>770</td>\n",
       "      <td>0</td>\n",
       "      <td>1933</td>\n",
       "      <td>0</td>\n",
       "      <td>98028</td>\n",
       "      <td>47.7379</td>\n",
       "      <td>-122.233</td>\n",
       "      <td>2720</td>\n",
       "      <td>8062</td>\n",
       "    </tr>\n",
       "    <tr>\n",
       "      <th>3</th>\n",
       "      <td>604000.0</td>\n",
       "      <td>4</td>\n",
       "      <td>3.00</td>\n",
       "      <td>1960</td>\n",
       "      <td>5000</td>\n",
       "      <td>1.0</td>\n",
       "      <td>0</td>\n",
       "      <td>0</td>\n",
       "      <td>5</td>\n",
       "      <td>7</td>\n",
       "      <td>1050</td>\n",
       "      <td>910</td>\n",
       "      <td>1965</td>\n",
       "      <td>0</td>\n",
       "      <td>98136</td>\n",
       "      <td>47.5208</td>\n",
       "      <td>-122.393</td>\n",
       "      <td>1360</td>\n",
       "      <td>5000</td>\n",
       "    </tr>\n",
       "    <tr>\n",
       "      <th>4</th>\n",
       "      <td>510000.0</td>\n",
       "      <td>3</td>\n",
       "      <td>2.00</td>\n",
       "      <td>1680</td>\n",
       "      <td>8080</td>\n",
       "      <td>1.0</td>\n",
       "      <td>0</td>\n",
       "      <td>0</td>\n",
       "      <td>3</td>\n",
       "      <td>8</td>\n",
       "      <td>1680</td>\n",
       "      <td>0</td>\n",
       "      <td>1987</td>\n",
       "      <td>0</td>\n",
       "      <td>98074</td>\n",
       "      <td>47.6168</td>\n",
       "      <td>-122.045</td>\n",
       "      <td>1800</td>\n",
       "      <td>7503</td>\n",
       "    </tr>\n",
       "  </tbody>\n",
       "</table>\n",
       "</div>"
      ],
      "text/plain": [
       "      price  bedrooms  bathrooms  sqft_living  sqft_lot  floors  waterfront  \\\n",
       "0  221900.0         3       1.00         1180      5650     1.0           0   \n",
       "1  538000.0         3       2.25         2570      7242     2.0           0   \n",
       "2  180000.0         2       1.00          770     10000     1.0           0   \n",
       "3  604000.0         4       3.00         1960      5000     1.0           0   \n",
       "4  510000.0         3       2.00         1680      8080     1.0           0   \n",
       "\n",
       "   view  condition  grade  sqft_above  sqft_basement  yr_built  yr_renovated  \\\n",
       "0     0          3      7        1180              0      1955             0   \n",
       "1     0          3      7        2170            400      1951          1991   \n",
       "2     0          3      6         770              0      1933             0   \n",
       "3     0          5      7        1050            910      1965             0   \n",
       "4     0          3      8        1680              0      1987             0   \n",
       "\n",
       "   zipcode      lat     long  sqft_living15  sqft_lot15  \n",
       "0    98178  47.5112 -122.257           1340        5650  \n",
       "1    98125  47.7210 -122.319           1690        7639  \n",
       "2    98028  47.7379 -122.233           2720        8062  \n",
       "3    98136  47.5208 -122.393           1360        5000  \n",
       "4    98074  47.6168 -122.045           1800        7503  "
      ]
     },
     "execution_count": 68,
     "metadata": {},
     "output_type": "execute_result"
    }
   ],
   "source": [
    "data.head()"
   ]
  },
  {
   "cell_type": "code",
   "execution_count": 29,
   "metadata": {},
   "outputs": [
    {
     "data": {
      "image/png": "[encoded data removed]",
      "text/plain": [
       "<Figure size 640x480 with 1 Axes>"
      ]
     },
     "metadata": {},
     "output_type": "display_data"
    }
   ],
   "source": [
    "import matplotlib.pyplot as plt\n",
    "x=data['price']\n",
    "# plot histogram of variable x\n",
    "plt.hist(x)\n",
    "plt.title('Histogram of X')\n",
    "plt.xlabel('X')\n",
    "plt.ylabel('Frequency')\n",
    "plt.show()\n"
   ]
  },
  {
   "cell_type": "code",
   "execution_count": 208,
   "metadata": {},
   "outputs": [
    {
     "data": {
      "text/plain": [
       "63.36001480590385"
      ]
     },
     "execution_count": 208,
     "metadata": {},
     "output_type": "execute_result"
    }
   ],
   "source": [
    "len(data.loc[data.price > data.price.mean()])/data.shape[0]*100 #36% des maison ont a prix superieur a la moyenne \n",
    "len(data.loc[data.price < data.price.mean()])/data.shape[0]*100 #63% ont a prix inferieur a la moyenne"
   ]
  },
  {
   "cell_type": "code",
   "execution_count": 209,
   "metadata": {},
   "outputs": [
    {
     "data": {
      "image/png": "[encoded data removed]",
      "text/plain": [
       "<Figure size 640x480 with 1 Axes>"
      ]
     },
     "metadata": {},
     "output_type": "display_data"
    }
   ],
   "source": [
    "import seaborn as sns\n",
    "\n",
    "# plot density plot of variable x\n",
    "sns.kdeplot(x)\n",
    "plt.title('Density plot of X')\n",
    "plt.xlabel('X')\n",
    "plt.ylabel('Density')\n",
    "plt.show()\n"
   ]
  },
  {
   "cell_type": "code",
   "execution_count": 210,
   "metadata": {},
   "outputs": [
    {
     "data": {
      "image/png": "[encoded data removed]",
      "text/plain": [
       "<Figure size 640x480 with 1 Axes>"
      ]
     },
     "metadata": {},
     "output_type": "display_data"
    }
   ],
   "source": [
    "import seaborn as sns\n",
    "\n",
    "# plot box plot of variable x\n",
    "sns.boxplot(x)\n",
    "plt.title('Box plot of X')\n",
    "plt.xlabel('X')\n",
    "plt.show()\n"
   ]
  },
  {
   "attachments": {},
   "cell_type": "raw",
   "metadata": {},
   "source": [
    " la fonction qqplot() du module statsmodels.api pour tracer un QQ-plot (Quantile-Quantile plot) de la variable x. \n",
    " Un QQ-plot est un type de graphique qui permet de comparer la distribution d'une variable à une distribution théorique connue (par exemple, \n",
    " la distribution normale).\n",
    "En d'autres termes, il permet de vérifier si les données suivent une certaine distribution théorique."
   ]
  },
  {
   "cell_type": "code",
   "execution_count": 211,
   "metadata": {},
   "outputs": [
    {
     "data": {
      "image/png": "[encoded data removed]",
      "text/plain": [
       "<Figure size 640x480 with 1 Axes>"
      ]
     },
     "metadata": {},
     "output_type": "display_data"
    }
   ],
   "source": [
    "import statsmodels.api as sm\n",
    "import matplotlib.pyplot as plt\n",
    "\n",
    "# plot QQ-plot of variable x\n",
    "sm.qqplot(x, line='s')\n",
    "plt.title('QQ plot of X')\n",
    "plt.xlabel('Theoretical quantiles')\n",
    "plt.ylabel('Sample quantiles')\n",
    "plt.show()\n",
    "\n"
   ]
  },
  {
   "cell_type": "code",
   "execution_count": null,
   "metadata": {},
   "outputs": [],
   "source": [
    "sorted_prices = sorted(df['price'].to_list(), reverse=False)\n",
    "sorted_prices"
   ]
  },
  {
   "cell_type": "code",
   "execution_count": 69,
   "metadata": {},
   "outputs": [],
   "source": [
    "\n",
    "\n",
    "# Définition des données d'entrée (X) et de sortie (y)\n",
    "X = data.drop('price', axis=1)\n",
    "y = data['price']\n",
    "\n",
    "transformed_y = np.log(y)"
   ]
  },
  {
   "cell_type": "code",
   "execution_count": 70,
   "metadata": {},
   "outputs": [
    {
     "name": "stdout",
     "output_type": "stream",
     "text": [
      "Moyenne des erreurs au carré de la validation croisée :  0.06440135721629865\n"
     ]
    }
   ],
   "source": [
    "from sklearn.model_selection import cross_val_score\n",
    "from sklearn.linear_model import LinearRegression\n",
    "model = LinearRegression()\n",
    "# Application de la validation croisée\n",
    "scores = cross_val_score(model, X, transformed_y , cv=5, scoring='neg_mean_squared_error')\n",
    "\n",
    "# Affichage des résultats\n",
    "print(\"Moyenne des erreurs au carré de la validation croisée : \", -scores.mean())"
   ]
  },
  {
   "attachments": {},
   "cell_type": "markdown",
   "metadata": {},
   "source": [
    "Appliquer la LinearRegression"
   ]
  },
  {
   "cell_type": "code",
   "execution_count": 102,
   "metadata": {},
   "outputs": [],
   "source": [
    "from sklearn.preprocessing import StandardScaler\n",
    "from sklearn.model_selection import train_test_split\n",
    "from sklearn.linear_model import LinearRegression\n",
    "\n",
    "# Séparer les features et la variable cible\n",
    "X = data.drop('price', axis=1)\n",
    "y = data['price']\n",
    "y = np.log(y)\n",
    "\n",
    "# X représente les features du modèle, y représente la variable cible\n",
    "# on normalise les features avec StandardScaler\n",
    "scaler = StandardScaler()\n",
    "X = scaler.fit_transform(X)\n",
    "\n",
    "# on divise les données en ensembles d'entraînement et de test\n",
    "X_train, X_test, y_train, y_test = train_test_split(X, y, test_size=0.2, random_state=40)\n",
    "\n",
    "# on entraîne un modèle de régression linéaire sur les données d'entraînement\n",
    "model = LinearRegression()\n",
    "model.fit(X_train, y_train)\n",
    "\n",
    "# on fait des prédictions sur les données de test\n",
    "y_pred_linear = model.predict(X_test)\n",
    "\n",
    "linear_score=model.score(X_train,y_train)"
   ]
  },
  {
   "cell_type": "code",
   "execution_count": 84,
   "metadata": {},
   "outputs": [],
   "source": [
    "from sklearn.metrics import mean_squared_error, r2_score, mean_absolute_error"
   ]
  },
  {
   "cell_type": "code",
   "execution_count": 104,
   "metadata": {},
   "outputs": [
    {
     "name": "stdout",
     "output_type": "stream",
     "text": [
      "MSE: 0.065\n",
      "RMSE: 0.255\n",
      "MAE: 0.198\n",
      "R2 score: 0.762\n"
     ]
    }
   ],
   "source": [
    "\n",
    "# Calcul des métriques\n",
    "mse_linear = mean_squared_error(y_test, y_pred_linear)\n",
    "rmse = np.sqrt(mse_linear)\n",
    "mae = mean_absolute_error(y_test, y_pred_linear)\n",
    "r2 = r2_score(y_test, y_pred_linear)\n",
    "\n",
    "# Affichage des métriques\n",
    "print(\"MSE: {:.3f}\".format(mse_linear))\n",
    "print(\"RMSE: {:.3f}\".format(rmse))\n",
    "print(\"MAE: {:.3f}\".format(mae))\n",
    "print(\"R2 score: {:.3f}\".format(r2))"
   ]
  },
  {
   "cell_type": "code",
   "execution_count": 86,
   "metadata": {},
   "outputs": [
    {
     "data": {
      "image/png": "[encoded data removed]",
      "text/plain": [
       "<Figure size 640x480 with 1 Axes>"
      ]
     },
     "metadata": {},
     "output_type": "display_data"
    }
   ],
   "source": [
    "import matplotlib.pyplot as plt\n",
    "\n",
    "plt.scatter(x=y_test,y=y_pred_linear,color ='b')\n",
    " \n",
    "\n",
    "plt.ylabel(\"S\")\n",
    "plt.xlabel(\"price\")\n",
    "\n",
    "plt.show()"
   ]
  },
  {
   "cell_type": "code",
   "execution_count": 36,
   "metadata": {},
   "outputs": [
    {
     "data": {
      "text/plain": [
       "<seaborn.axisgrid.FacetGrid at 0x29100e9ac50>"
      ]
     },
     "execution_count": 36,
     "metadata": {},
     "output_type": "execute_result"
    },
    {
     "data": {
      "image/png": "[encoded data removed]",
      "text/plain": [
       "<Figure size 500x500 with 1 Axes>"
      ]
     },
     "metadata": {},
     "output_type": "display_data"
    }
   ],
   "source": [
    "\n",
    "import seaborn as sns\n",
    "residuals = y_test - y_pred_linear\n",
    "sns.displot(residuals, kind='kde')\n"
   ]
  },
  {
   "cell_type": "code",
   "execution_count": 105,
   "metadata": {},
   "outputs": [
    {
     "data": {
      "image/png": "[encoded data removed]",
      "text/plain": [
       "<Figure size 640x480 with 1 Axes>"
      ]
     },
     "metadata": {},
     "output_type": "display_data"
    }
   ],
   "source": [
    "import matplotlib.pyplot as plt\n",
    "import numpy as np\n",
    "from sklearn.metrics import mean_squared_error, mean_absolute_error, r2_score\n",
    "\n",
    "# Calcul des métriques d'évaluation\n",
    "mse = mean_squared_error(y_test, y_pred_linear)\n",
    "rmse = np.sqrt(mse)\n",
    "mae = mean_absolute_error(y_test, y_pred_linear)\n",
    "r2 = r2_score(y_test, y_pred_linear)\n",
    "\n",
    "# Création du graphique de densité des résidus\n",
    "residuals = y_test - y_pred_linear\n",
    "plt.figure()\n",
    "plt.title('Graphique de densité des résidus')\n",
    "plt.xlabel('Résidus')\n",
    "plt.ylabel('Densité')\n",
    "plt.hist(residuals, bins=20, density=True)\n",
    "plt.show()\n",
    "\n"
   ]
  },
  {
   "cell_type": "code",
   "execution_count": 38,
   "metadata": {},
   "outputs": [
    {
     "data": {
      "image/png": "[encoded data removed]",
      "text/plain": [
       "<Figure size 640x480 with 1 Axes>"
      ]
     },
     "metadata": {},
     "output_type": "display_data"
    }
   ],
   "source": [
    "\n",
    "# Affichage des valeurs de métriques\n",
    "plt.figure()\n",
    "plt.text(0.1, 0.9, 'MSE = {:.2f}'.format(mse), transform=plt.gca().transAxes)\n",
    "plt.text(0.1, 0.85, 'RMSE = {:.2f}'.format(rmse), transform=plt.gca().transAxes)\n",
    "plt.text(0.1, 0.8, 'MAE = {:.2f}'.format(mae), transform=plt.gca().transAxes)\n",
    "plt.text(0.1, 0.75, 'R2 = {:.2f}'.format(r2), transform=plt.gca().transAxes)\n",
    "plt.axis('off')\n",
    "plt.show()\n"
   ]
  },
  {
   "cell_type": "code",
   "execution_count": 39,
   "metadata": {},
   "outputs": [
    {
     "data": {
      "text/plain": [
       "['C:\\\\Users\\\\USER\\\\Documents\\\\GOMYCODE\\\\MachineLearningSupervised\\\\Regression\\\\HousePrediction\\\\model.pkl']"
      ]
     },
     "execution_count": 39,
     "metadata": {},
     "output_type": "execute_result"
    }
   ],
   "source": [
    "import joblib\n",
    "\n",
    "joblib.dump(model, 'C:\\\\Users\\\\USER\\\\Documents\\\\GOMYCODE\\\\MachineLearningSupervised\\\\Regression\\\\HousePrediction\\\\model.pkl')"
   ]
  },
  {
   "attachments": {},
   "cell_type": "markdown",
   "metadata": {},
   "source": [
    "ANN"
   ]
  },
  {
   "cell_type": "code",
   "execution_count": 117,
   "metadata": {},
   "outputs": [
    {
     "name": "stdout",
     "output_type": "stream",
     "text": [
      "136/136 [==============================] - 1s 3ms/step\n",
      "MSE: 0.036\n",
      "RMSE: 0.189\n",
      "R2 score: 0.875\n"
     ]
    }
   ],
   "source": [
    "\n",
    "import numpy as np\n",
    "import pandas as pd\n",
    "from keras.models import Sequential\n",
    "from keras.layers import Dense\n",
    "from sklearn.model_selection import train_test_split\n",
    "from sklearn.preprocessing import StandardScaler\n",
    "from sklearn.metrics import mean_squared_error, r2_score\n",
    "\n",
    "\n",
    "\n",
    "# Split data into input (X) and output (y) variables\n",
    "X = data.drop('price', axis=1)\n",
    "y = data['price']\n",
    "y = np.log(y)\n",
    "# Split data into training and testing sets\n",
    "X_train, X_test, y_train, y_test = train_test_split(X, y, test_size=0.2, random_state=42)\n",
    "\n",
    "# Scale data\n",
    "scaler = StandardScaler()\n",
    "X_train = scaler.fit_transform(X_train)\n",
    "X_test = scaler.transform(X_test)\n",
    "\n",
    "# Define the model architecture\n",
    "modelAnn = Sequential()\n",
    "modelAnn .add(Dense(32, input_dim=X_train.shape[1], activation='relu'))\n",
    "modelAnn.add(Dense(16, activation='relu'))\n",
    "modelAnn.add(Dense(1))\n",
    "\n",
    "# Compile the model\n",
    "modelAnn.compile(loss='mean_squared_error', optimizer='adam')\n",
    "\n",
    "# Train the model\n",
    "modelAnn.fit(X_train, y_train, epochs=100, batch_size=32, verbose=0)\n",
    "\n",
    "# Make predictions on test data\n",
    "y_pred_ANN = modelAnn.predict(X_test)\n",
    "\n",
    "# Evaluate model performance\n",
    "mse = mean_squared_error(y_test, y_pred_ANN)\n",
    "rmse = np.sqrt(mse)\n",
    "r2 = r2_score(y_test, y_pred_ANN)\n",
    "ann_score=r2\n",
    "mse_ann=mse\n",
    "\n",
    "print('MSE: {:.3f}'.format(mse))\n",
    "print('RMSE: {:.3f}'.format(rmse))\n",
    "print('R2 score: {:.3f}'.format(r2))\n"
   ]
  },
  {
   "cell_type": "code",
   "execution_count": null,
   "metadata": {},
   "outputs": [],
   "source": [
    "#visualise the N.N\n",
    "from keras.utils.vis_utils import plot_model\n",
    "plot_model(model,show_shapes=True,show_layer_names=True)"
   ]
  },
  {
   "cell_type": "code",
   "execution_count": 106,
   "metadata": {},
   "outputs": [],
   "source": [
    "from sklearn.linear_model import Ridge\n",
    "\n",
    "# Separating features and target variable\n",
    "X = data.drop('price', axis=1)\n",
    "y = data['price']\n",
    "y = np.log(y)\n",
    "\n",
    "# Normalizing features with StandardScaler\n",
    "scaler = StandardScaler()\n",
    "X = scaler.fit_transform(X)\n",
    "\n",
    "# Splitting the data into training and testing sets\n",
    "X_train, X_test, y_train, y_test = train_test_split(X, y, test_size=0.2, random_state=40)\n",
    "\n",
    "# Training a Ridge regression model on the training data\n",
    "ridge_model = Ridge(alpha=1.0) # alpha is the regularization strength\n",
    "ridge_model.fit(X_train, y_train)\n",
    "\n",
    "# Predicting on the test data\n",
    "y_pred_ridge = ridge_model.predict(X_test)\n",
    "\n",
    "# Computing the R^2 score of the model on the training set\n",
    "\n",
    "ridge_score=ridge_model.score(X_train, y_train)\n"
   ]
  },
  {
   "cell_type": "code",
   "execution_count": 107,
   "metadata": {},
   "outputs": [
    {
     "name": "stdout",
     "output_type": "stream",
     "text": [
      "MSE pour le modèle de régression Ridge : 0.06504802700455219\n"
     ]
    }
   ],
   "source": [
    "from sklearn.linear_model import Ridge\n",
    "from sklearn.metrics import mean_squared_error\n",
    "\n",
    "\n",
    "# Calculer l'erreur quadratique moyenne (MSE) sur les données de test\n",
    "mse_ridge = mean_squared_error(y_test, y_pred_ridge)\n",
    "\n",
    "print(\"MSE pour le modèle de régression Ridge :\", mse)\n"
   ]
  },
  {
   "cell_type": "code",
   "execution_count": null,
   "metadata": {},
   "outputs": [],
   "source": []
  },
  {
   "cell_type": "code",
   "execution_count": 108,
   "metadata": {},
   "outputs": [
    {
     "name": "stderr",
     "output_type": "stream",
     "text": [
      "c:\\Users\\USER\\anaconda3\\envs\\Myenv\\lib\\site-packages\\sklearn\\linear_model\\_coordinate_descent.py:634: ConvergenceWarning: Objective did not converge. You might want to increase the number of iterations, check the scale of the features or consider increasing regularisation. Duality gap: 2.191e+13, tolerance: 2.369e+11\n",
      "  model = cd_fast.enet_coordinate_descent(\n"
     ]
    }
   ],
   "source": [
    "from sklearn.linear_model import Lasso\n",
    "\n",
    "# Separating features and target variable\n",
    "X = data.drop('price', axis=1)\n",
    "y = data['price']\n",
    "\n",
    "\n",
    "# Normalizing features with StandardScaler\n",
    "scaler = StandardScaler()\n",
    "X = scaler.fit_transform(X)\n",
    "\n",
    "# Splitting the data into training and testing sets\n",
    "X_train, X_test, y_train, y_test = train_test_split(X, y, test_size=0.2, random_state=40)\n",
    "\n",
    "# Training a Lasso regression model on the training data\n",
    "lasso_model = Lasso(alpha=1.0) # alpha is the regularization strength\n",
    "lasso_model.fit(X_train, y_train)\n",
    "\n",
    "# Predicting on the test data\n",
    "y_pred_lasso = lasso_model.predict(X_test)\n",
    "\n",
    "# Computing the R^2 score of the model on the training set\n",
    "\n",
    "lasso_score=lasso_model.score(X_train, y_train)"
   ]
  },
  {
   "cell_type": "code",
   "execution_count": 110,
   "metadata": {},
   "outputs": [
    {
     "name": "stdout",
     "output_type": "stream",
     "text": [
      "MSE pour le modèle de régression Lasso : 37873089315.800705\n"
     ]
    }
   ],
   "source": [
    "lasso_model.score(X_train, y_train)\n",
    "mse_lasso = mean_squared_error(y_test, y_pred_lasso)\n",
    "\n",
    "print(\"MSE pour le modèle de régression Lasso :\", mse_lasso)"
   ]
  },
  {
   "cell_type": "code",
   "execution_count": 112,
   "metadata": {},
   "outputs": [
    {
     "name": "stdout",
     "output_type": "stream",
     "text": [
      "MSE: 0.065\n"
     ]
    }
   ],
   "source": [
    "from sklearn.tree import DecisionTreeRegressor\n",
    "from sklearn.model_selection import train_test_split\n",
    "from sklearn.metrics import mean_squared_error\n",
    "\n",
    "# Separating features and target variable\n",
    "X = data.drop('price', axis=1)\n",
    "y = data['price']\n",
    "y = np.log(y)\n",
    "\n",
    "# Splitting the data into train and test sets\n",
    "X_train, X_test, y_train, y_test = train_test_split(X, y, test_size=0.2, random_state=42)\n",
    "\n",
    "# Creating the decision tree regressor object\n",
    "regressorTree = DecisionTreeRegressor(max_depth=5,random_state=42)\n",
    "\n",
    "# Fitting the model on the training data\n",
    "regressorTree.fit(X_train, y_train)\n",
    "\n",
    "# Making predictions on the test data\n",
    "y_pred_tree = regressorTree.predict(X_test)\n",
    "\n",
    "# Calculating the mean squared error of the predictions\n",
    "mse_tree = mean_squared_error(y_test, y_pred_tree)\n",
    "print(\"MSE: {:.3f}\".format(mse))\n",
    "\n",
    "\n",
    "regressorTree.score(X_test,y_test)\n",
    "\n",
    "tree_score=regressorTree.score(X_train,y_train)\n",
    "\n",
    "\n"
   ]
  },
  {
   "cell_type": "code",
   "execution_count": 113,
   "metadata": {},
   "outputs": [
    {
     "name": "stdout",
     "output_type": "stream",
     "text": [
      "MSE: 0.065\n",
      "RMSE: 0.255\n",
      "MAE: 0.183\n",
      "R2 score: 0.789\n"
     ]
    }
   ],
   "source": [
    "from sklearn.ensemble import RandomForestRegressor\n",
    "from sklearn.metrics import mean_squared_error, mean_absolute_error, r2_score\n",
    "from sklearn.model_selection import train_test_split\n",
    "\n",
    "# Séparer les features et la variable cible\n",
    "X = data.drop('price', axis=1)\n",
    "y = data['price']\n",
    "y=np.log(y)\n",
    "# Diviser les données en un ensemble d'entraînement et un ensemble de test\n",
    "X_train, X_test, y_train, y_test = train_test_split(X, y, test_size=0.2, random_state=42)\n",
    "\n",
    "# Initialiser le modèle Random Forest\n",
    "modelForest = RandomForestRegressor(n_estimators=100, max_depth=5)\n",
    "\n",
    "# Entraîner le modèle sur les données d'entraînement\n",
    "modelForest.fit(X_train, y_train)\n",
    "\n",
    "# Faire des prédictions sur les données de test\n",
    "y_pred_forest = modelForest.predict(X_test)\n",
    "\n",
    "# Calculer les métriques d'évaluation\n",
    "mse_forest = mean_squared_error(y_test, y_pred_forest)\n",
    "rmse = np.sqrt(mse)\n",
    "mae = mean_absolute_error(y_test, y_pred_forest)\n",
    "r2 = r2_score(y_test, y_pred_forest)\n",
    "\n",
    "# Afficher les métriques d'évaluation\n",
    "print(\"MSE: {:.3f}\".format(mse))\n",
    "print(\"RMSE: {:.3f}\".format(rmse))\n",
    "print(\"MAE: {:.3f}\".format(mae))\n",
    "print(\"R2 score: {:.3f}\".format(r2))\n",
    "\n",
    "forest_score=modelForest.score(X_train,y_train)\n",
    "\n"
   ]
  },
  {
   "cell_type": "code",
   "execution_count": 114,
   "metadata": {},
   "outputs": [
    {
     "name": "stdout",
     "output_type": "stream",
     "text": [
      "MSE: 0.065\n",
      "RMSE: 0.255\n",
      "R2 score: 0.770\n"
     ]
    }
   ],
   "source": [
    "from sklearn.svm import SVR\n",
    "from sklearn.model_selection import train_test_split\n",
    "from sklearn.preprocessing import StandardScaler\n",
    "from sklearn.metrics import mean_squared_error, r2_score\n",
    "\n",
    "# Separating features and target variable\n",
    "X = data.drop('price', axis=1)\n",
    "y = data['price']\n",
    "y = np.log(y)\n",
    "\n",
    "# Splitting the data into training and testing sets\n",
    "X_train, X_test, y_train, y_test = train_test_split(X, y, test_size=0.2, random_state=0)\n",
    "\n",
    "# Scaling the features\n",
    "scaler = StandardScaler()\n",
    "X_train = scaler.fit_transform(X_train)\n",
    "X_test = scaler.transform(X_test)\n",
    "\n",
    "# Creating the SVM regressor\n",
    "regressor = SVR(kernel='linear', C=1.0)\n",
    "\n",
    "# Training the SVM regressor\n",
    "regressor.fit(X_train, y_train)\n",
    "\n",
    "# Predicting the test set results\n",
    "y_pred_svm = regressor.predict(X_test)\n",
    "\n",
    "# Evaluating the model\n",
    "mse_svm = mean_squared_error(y_test, y_pred_svm)\n",
    "rmse = np.sqrt(mse_svm)\n",
    "r2 = r2_score(y_test, y_pred_svm)\n",
    "\n",
    "print(\"MSE: {:.3f}\".format(mse_svm))\n",
    "print(\"RMSE: {:.3f}\".format(rmse))\n",
    "print(\"R2 score: {:.3f}\".format(r2))\n",
    "svm_score=regressor.score(X_train,y_train)\n"
   ]
  },
  {
   "cell_type": "code",
   "execution_count": 119,
   "metadata": {},
   "outputs": [
    {
     "data": {
      "image/png": "[encoded data removed]",
      "text/plain": [
       "<Figure size 640x480 with 1 Axes>"
      ]
     },
     "metadata": {},
     "output_type": "display_data"
    }
   ],
   "source": [
    "import matplotlib.pyplot as plt\n",
    "\n",
    "# MSE pour chaque modèle\n",
    "linear_mse =mse_linear\n",
    "#lasso_mse = (mean_squared_error(y_test, y_pred_lasso))\n",
    "ridge_mse = mse_ridge\n",
    "tree_mse = mse_tree\n",
    "forest_mse = mse_forest\n",
    "svm_mse = mse_svm\n",
    "ann_mse=mse_ann\n",
    "# Créer une liste de noms de modèle\n",
    "models = ['Linear',  'Ridge', 'Tree', 'Forest', 'SVM','ANN']\n",
    "\n",
    "# Créer une liste des MSE pour chaque modèle\n",
    "mse_values = [linear_mse,  ridge_mse, tree_mse, forest_mse, svm_mse,ann_mse]\n",
    "\n",
    "# Créer un graphique à barres pour comparer les MSE\n",
    "fig, ax = plt.subplots()\n",
    "ax.bar(models, mse_values)\n",
    "ax.set_title('Comparaison des modèles basée sur le MSE')\n",
    "ax.set_xlabel('Modèles')\n",
    "ax.set_ylabel('MSE')\n",
    "plt.show()\n"
   ]
  },
  {
   "cell_type": "code",
   "execution_count": 120,
   "metadata": {},
   "outputs": [
    {
     "name": "stdout",
     "output_type": "stream",
     "text": [
      "Linear MSE: 0.06504802700455219\n",
      "Ridge MSE: 0.0650478215436388\n",
      "Tree MSE: 0.06690387357344754\n",
      "Forest MSE: 0.06016169416733053\n",
      "SVM MSE: 0.06157167226658613\n",
      "ANN MSE: 0.03575320671392374\n"
     ]
    }
   ],
   "source": [
    "# Créer un dictionnaire de noms de modèle et de MSE correspondants\n",
    "model_mse_dict = {'Linear': linear_mse, 'Ridge': ridge_mse, 'Tree': tree_mse, 'Forest': forest_mse, 'SVM': svm_mse, 'ANN': ann_mse  }\n",
    "\n",
    "# Afficher les résultats pour chaque modèle\n",
    "for model, mse in model_mse_dict.items(): \n",
    "    print(model, \"MSE:\", mse)\n"
   ]
  },
  {
   "cell_type": "code",
   "execution_count": 121,
   "metadata": {},
   "outputs": [
    {
     "data": {
      "image/png": "[encoded data removed]",
      "text/plain": [
       "<Figure size 640x480 with 1 Axes>"
      ]
     },
     "metadata": {},
     "output_type": "display_data"
    }
   ],
   "source": [
    "import matplotlib.pyplot as plt\n",
    "\n",
    "\n",
    "\n",
    "# Créer une liste de noms de modèle\n",
    "models = ['Linear',  'Ridge', 'Tree', 'Forest','SVM','Lasso','ANN']\n",
    "\n",
    "# Créer une liste des MSE pour chaque modèle\n",
    "score_values = [linear_score, lasso_score, ridge_score, tree_score, forest_score,svm_score,ann_score]\n",
    "\n",
    "# Créer un graphique à barres pour comparer les MSE\n",
    "fig, ax = plt.subplots()\n",
    "ax.bar(models, score_values)\n",
    "ax.set_title('Comparaison des modèles basée sur le score')\n",
    "ax.set_xlabel('Modèles')\n",
    "ax.set_ylabel('MSE')\n",
    "plt.show()"
   ]
  },
  {
   "cell_type": "code",
   "execution_count": 122,
   "metadata": {},
   "outputs": [
    {
     "name": "stdout",
     "output_type": "stream",
     "text": [
      "Linear Score: 0.7723747126111131\n",
      "Lasso Score: 0.6998007637248942\n",
      "Ridge Score: 0.7723747110268802\n",
      "Tree Score: 0.7687447814247645\n",
      "Forest Score: 0.7924084756443958\n",
      "SVM Score: 0.7689328782858368\n",
      "ANN Score: 0.8745642523882002\n"
     ]
    }
   ],
   "source": [
    "# Créer un dictionnaire de noms de modèle et de MSE correspondants\n",
    "model_mse_dict = {'Linear': linear_score,'Lasso':lasso_score ,'Ridge': ridge_score, 'Tree': tree_score, 'Forest': forest_score, 'SVM': svm_score, 'ANN': ann_score  }\n",
    "\n",
    "# Afficher les résultats pour chaque modèle\n",
    "for model, Score in model_mse_dict.items(): \n",
    "    print(model, \"Score:\", Score)"
   ]
  },
  {
   "cell_type": "code",
   "execution_count": null,
   "metadata": {},
   "outputs": [],
   "source": [
    "import numpy as np\n",
    "import pandas as pd\n",
    "from scipy.stats import boxcox\n",
    "from sklearn.linear_model import LinearRegression\n",
    "from statsmodels.api import Poisson\n",
    "\n",
    "# Charger les données d'entraînement\n",
    "train_data = pd.read_csv('train_data.csv')\n",
    "\n",
    "# Exemple de variable cible (prix)\n",
    "y = train_data['prix']\n",
    "\n",
    "# Appliquer la transformation log\n",
    "y_log = np.log(y)\n",
    "\n",
    "# Appliquer la transformation de puissance\n",
    "y_pow = np.power(y, 0.5)\n",
    "\n",
    "# Appliquer la transformation de box-cox\n",
    "y_boxcox, _ = boxcox(y)\n",
    "\n",
    "# Appliquer la régression quantile\n",
    "quant_reg = LinearRegression(quantile_transformer='uniform', quantile_alpha=0.2)\n",
    "quant_reg.fit(train_data.drop('prix', axis=1), y)\n",
    "\n",
    "# Appliquer la régression de Poisson\n",
    "poisson_reg = Poisson(y, train_data.drop('prix', axis=1)).fit()\n",
    "\n",
    "# Pour savoir quand appliquer ces transformations, \n",
    "# il est important d'examiner la distribution des données et de déterminer si une transformation est nécessaire pour améliorer \n",
    "# la performance du modèle. Par exemple, \n",
    "# si la variable cible a une distribution asymétrique, une transformation de puissance ou de box-cox peut être appropriée.\n",
    "#  Si la variable cible est une variable de comptage, la régression de Poisson peut être utilisée. \n",
    "# Si les données ont des valeurs extrêmes, la régression quantile peut être une méthode appropriée pour ajuster le modèle. \n",
    "# Il est important d'essayer plusieurs approches différentes pour déterminer la méthode qui fonctionne le mieux pour les données en question.\n"
   ]
  },
  {
   "cell_type": "code",
   "execution_count": 241,
   "metadata": {},
   "outputs": [
    {
     "data": {
      "text/plain": [
       "[350000.0, 450000.0]"
      ]
     },
     "execution_count": 241,
     "metadata": {},
     "output_type": "execute_result"
    }
   ],
   "source": [
    "y.mode().to_list()\n"
   ]
  }
 ],
 "metadata": {
  "kernelspec": {
   "display_name": "Myenv",
   "language": "python",
   "name": "python3"
  },
  "language_info": {
   "codemirror_mode": {
    "name": "ipython",
    "version": 3
   },
   "file_extension": ".py",
   "mimetype": "text/x-python",
   "name": "python",
   "nbconvert_exporter": "python",
   "pygments_lexer": "ipython3",
   "version": "3.10.9"
  },
  "orig_nbformat": 4
 },
 "nbformat": 4,
 "nbformat_minor": 2
}
